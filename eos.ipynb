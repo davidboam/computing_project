{
 "cells": [
  {
   "cell_type": "code",
   "execution_count": 115,
   "metadata": {},
   "outputs": [],
   "source": [
    "import numpy as np\n",
    "import matplotlib.pyplot as plt\n",
    "from scipy.integrate import solve_ivp\n",
    "\n",
    "# Constants\n",
    "G = 6.67430e-11  # Gravitational constant in N*m^2/kg^2\n",
    "M_sun = 1.989e30  # Solar mass in kg\n",
    "R_sun = 6.955e10  # Solar radius in m\n",
    "K_NR = 1.2435e15  # Constant for non-relativistic electron degenerate gas (cgs units)\n",
    "m_e = 9.11e-31\n",
    "hbar = 1.05457182e-34\n",
    "c = 2.99e8\n",
    "a_z = 2\n",
    "m_n = 1.67e-27\n",
    "\n",
    "\n",
    "# ------------------ EOS Module -------------------\n",
    "def eos_non_relativistic(rho):\n",
    "    \"\"\"Non-relativistic degenerate electron gas EOS\"\"\"\n",
    "    return K_NR * rho**(5/3)\n",
    "\n",
    "def rho_from_pressure_non_relativistic(P):\n",
    "    \"\"\"Inverse EOS to get density from pressure for non-relativistic case\"\"\"\n",
    "    K_NR = (hbar**2  * (3 * np.pi**2 / (a_z * m_n * c**2))**5/3) / (15 * np.pi**2 * m_e)\n",
    "    return (P / K_NR)**(3/5)\n",
    "\n",
    "\n",
    "# K_R = (hbar*c  * (3 * np.pi**2 / (a_z * m_n * c**2))**5/3) / (12 * np.pi**2)\n",
    "\n",
    "# ----------------- Structure Solver -----------------\n",
    "def hydrostatic_equilibrium(r, y):\n",
    "    \"\"\"Equation for hydrostatic equilibrium: y[0]=Pressure, y[1]=Mass\"\"\"\n",
    "    P, M = y\n",
    "    rho = rho_from_pressure_non_relativistic(P)  # Calculate density from pressure\n",
    "\n",
    "    \n",
    "    if rho == 0 or P <= 0:\n",
    "        return [0, 0]  # Stop if pressure or density is zero\n",
    "\n",
    "    dP_dr = -G * M * rho / r**2\n",
    "    dM_dr = 4 * np.pi * r**2 * rho\n",
    "    return [dP_dr, dM_dr]\n",
    "\n",
    "# ----------------- Event to Stop at Pressure < threshold -----------------\n",
    "def stop_at_pressure_threshold(r, y):\n",
    "    threshold_pressure = 1e-10  # Define a small threshold for pressure\n",
    "    return y[0] - threshold_pressure  # Stop when pressure y[0] < threshold_pressure\n",
    "\n",
    "# ----------------- Main Integration Function -----------------\n",
    "def integrate_star(central_pressure):\n",
    "    \"\"\"Solve the structure equations numerically\"\"\"\n",
    "    radius = 1e11\n",
    "    \n",
    "    sol = solve_ivp(hydrostatic_equilibrium, [1e-6, radius], [central_pressure, 0], \n",
    "                    events=stop_at_pressure_threshold, dense_output=True, max_step=1e7)\n",
    "    \n",
    "    return sol.t, sol.y[0], sol.y[1]  # Return radius, pressure, and mass profiles\n"
   ]
  },
  {
   "cell_type": "code",
   "execution_count": 123,
   "metadata": {},
   "outputs": [
    {
     "name": "stdout",
     "output_type": "stream",
     "text": [
      "[1.00000000e+21 1.00000000e+21 1.00000000e+21 ... 2.21807663e+18\n",
      " 2.21609030e+18 2.21434189e+18]\n",
      "1e+21\n",
      "1.4378145219266714 17027935.094957814\n"
     ]
    }
   ],
   "source": [
    "p = 10e20\n",
    "radius, pressure, mass = integrate_star(p)\n",
    "\n",
    "print(pressure)\n",
    "print(pressure[0])\n",
    "\n",
    "# Extract the final radius and mass when pressure drops to (near) zero\n",
    "final_radius = radius[-1] / R_sun  # Convert to solar radii\n",
    "final_mass = mass[-1] / M_sun  # Convert to solar masses\n",
    "\n",
    "print(final_radius,final_mass)"
   ]
  },
  {
   "cell_type": "code",
   "execution_count": 125,
   "metadata": {},
   "outputs": [
    {
     "name": "stdout",
     "output_type": "stream",
     "text": [
      "2.2143418884047808e+18\n"
     ]
    },
    {
     "data": {
      "image/png": "[encoded data removed]",
      "text/plain": [
       "<Figure size 640x480 with 1 Axes>"
      ]
     },
     "metadata": {},
     "output_type": "display_data"
    }
   ],
   "source": [
    "plt.plot(radius,pressure)\n",
    "print(min(pressure))"
   ]
  },
  {
   "cell_type": "code",
   "execution_count": 89,
   "metadata": {},
   "outputs": [
    {
     "name": "stderr",
     "output_type": "stream",
     "text": [
      "C:\\Users\\Lenovo ThinkPad\\AppData\\Local\\Temp\\ipykernel_6016\\3832965253.py:39: RuntimeWarning: invalid value encountered in scalar multiply\n",
      "  dP_dr = -G * M * rho / r**2\n"
     ]
    },
    {
     "ename": "KeyboardInterrupt",
     "evalue": "",
     "output_type": "error",
     "traceback": [
      "\u001b[1;31m---------------------------------------------------------------------------\u001b[0m",
      "\u001b[1;31mKeyboardInterrupt\u001b[0m                         Traceback (most recent call last)",
      "Cell \u001b[1;32mIn[89], line 8\u001b[0m\n\u001b[0;32m      6\u001b[0m masses \u001b[38;5;241m=\u001b[39m []\n\u001b[0;32m      7\u001b[0m \u001b[38;5;28;01mfor\u001b[39;00m p \u001b[38;5;129;01min\u001b[39;00m p_range:\n\u001b[1;32m----> 8\u001b[0m     radius, pressure, mass \u001b[38;5;241m=\u001b[39m \u001b[43mintegrate_star\u001b[49m\u001b[43m(\u001b[49m\u001b[43mp\u001b[49m\u001b[43m)\u001b[49m\n\u001b[0;32m     10\u001b[0m     \u001b[38;5;66;03m# Extract the final radius and mass when pressure drops to (near) zero\u001b[39;00m\n\u001b[0;32m     11\u001b[0m     final_radius \u001b[38;5;241m=\u001b[39m radius[\u001b[38;5;241m-\u001b[39m\u001b[38;5;241m1\u001b[39m] \u001b[38;5;241m/\u001b[39m R_sun  \u001b[38;5;66;03m# Convert to solar radii\u001b[39;00m\n",
      "Cell \u001b[1;32mIn[88], line 53\u001b[0m, in \u001b[0;36mintegrate_star\u001b[1;34m(central_pressure)\u001b[0m\n\u001b[0;32m     50\u001b[0m \u001b[38;5;124;03m\"\"\"Solve the structure equations numerically\"\"\"\u001b[39;00m\n\u001b[0;32m     51\u001b[0m radius \u001b[38;5;241m=\u001b[39m \u001b[38;5;241m1e8\u001b[39m\n\u001b[1;32m---> 53\u001b[0m sol \u001b[38;5;241m=\u001b[39m \u001b[43msolve_ivp\u001b[49m\u001b[43m(\u001b[49m\u001b[43mhydrostatic_equilibrium\u001b[49m\u001b[43m,\u001b[49m\u001b[43m \u001b[49m\u001b[43m[\u001b[49m\u001b[38;5;241;43m1e-6\u001b[39;49m\u001b[43m,\u001b[49m\u001b[43m \u001b[49m\u001b[43mradius\u001b[49m\u001b[43m]\u001b[49m\u001b[43m,\u001b[49m\u001b[43m \u001b[49m\u001b[43m[\u001b[49m\u001b[43mcentral_pressure\u001b[49m\u001b[43m,\u001b[49m\u001b[43m \u001b[49m\u001b[38;5;241;43m0\u001b[39;49m\u001b[43m]\u001b[49m\u001b[43m,\u001b[49m\u001b[43m \u001b[49m\n\u001b[0;32m     54\u001b[0m \u001b[43m                \u001b[49m\u001b[43mevents\u001b[49m\u001b[38;5;241;43m=\u001b[39;49m\u001b[43mstop_at_pressure_threshold\u001b[49m\u001b[43m,\u001b[49m\u001b[43m \u001b[49m\u001b[43mdense_output\u001b[49m\u001b[38;5;241;43m=\u001b[39;49m\u001b[38;5;28;43;01mTrue\u001b[39;49;00m\u001b[43m,\u001b[49m\u001b[43m \u001b[49m\u001b[43mmax_step\u001b[49m\u001b[38;5;241;43m=\u001b[39;49m\u001b[38;5;241;43m1e7\u001b[39;49m\u001b[43m)\u001b[49m\n\u001b[0;32m     56\u001b[0m \u001b[38;5;28;01mreturn\u001b[39;00m sol\u001b[38;5;241m.\u001b[39mt, sol\u001b[38;5;241m.\u001b[39my[\u001b[38;5;241m0\u001b[39m], sol\u001b[38;5;241m.\u001b[39my[\u001b[38;5;241m1\u001b[39m]\n",
      "File \u001b[1;32m~\\AppData\\Roaming\\Python\\Python310\\site-packages\\scipy\\integrate\\_ivp\\ivp.py:591\u001b[0m, in \u001b[0;36msolve_ivp\u001b[1;34m(fun, t_span, y0, method, t_eval, dense_output, events, vectorized, args, **options)\u001b[0m\n\u001b[0;32m    589\u001b[0m status \u001b[38;5;241m=\u001b[39m \u001b[38;5;28;01mNone\u001b[39;00m\n\u001b[0;32m    590\u001b[0m \u001b[38;5;28;01mwhile\u001b[39;00m status \u001b[38;5;129;01mis\u001b[39;00m \u001b[38;5;28;01mNone\u001b[39;00m:\n\u001b[1;32m--> 591\u001b[0m     message \u001b[38;5;241m=\u001b[39m \u001b[43msolver\u001b[49m\u001b[38;5;241;43m.\u001b[39;49m\u001b[43mstep\u001b[49m\u001b[43m(\u001b[49m\u001b[43m)\u001b[49m\n\u001b[0;32m    593\u001b[0m     \u001b[38;5;28;01mif\u001b[39;00m solver\u001b[38;5;241m.\u001b[39mstatus \u001b[38;5;241m==\u001b[39m \u001b[38;5;124m'\u001b[39m\u001b[38;5;124mfinished\u001b[39m\u001b[38;5;124m'\u001b[39m:\n\u001b[0;32m    594\u001b[0m         status \u001b[38;5;241m=\u001b[39m \u001b[38;5;241m0\u001b[39m\n",
      "File \u001b[1;32m~\\AppData\\Roaming\\Python\\Python310\\site-packages\\scipy\\integrate\\_ivp\\base.py:181\u001b[0m, in \u001b[0;36mOdeSolver.step\u001b[1;34m(self)\u001b[0m\n\u001b[0;32m    179\u001b[0m \u001b[38;5;28;01melse\u001b[39;00m:\n\u001b[0;32m    180\u001b[0m     t \u001b[38;5;241m=\u001b[39m \u001b[38;5;28mself\u001b[39m\u001b[38;5;241m.\u001b[39mt\n\u001b[1;32m--> 181\u001b[0m     success, message \u001b[38;5;241m=\u001b[39m \u001b[38;5;28;43mself\u001b[39;49m\u001b[38;5;241;43m.\u001b[39;49m\u001b[43m_step_impl\u001b[49m\u001b[43m(\u001b[49m\u001b[43m)\u001b[49m\n\u001b[0;32m    183\u001b[0m     \u001b[38;5;28;01mif\u001b[39;00m \u001b[38;5;129;01mnot\u001b[39;00m success:\n\u001b[0;32m    184\u001b[0m         \u001b[38;5;28mself\u001b[39m\u001b[38;5;241m.\u001b[39mstatus \u001b[38;5;241m=\u001b[39m \u001b[38;5;124m'\u001b[39m\u001b[38;5;124mfailed\u001b[39m\u001b[38;5;124m'\u001b[39m\n",
      "File \u001b[1;32m~\\AppData\\Roaming\\Python\\Python310\\site-packages\\scipy\\integrate\\_ivp\\rk.py:144\u001b[0m, in \u001b[0;36mRungeKutta._step_impl\u001b[1;34m(self)\u001b[0m\n\u001b[0;32m    141\u001b[0m h \u001b[38;5;241m=\u001b[39m t_new \u001b[38;5;241m-\u001b[39m t\n\u001b[0;32m    142\u001b[0m h_abs \u001b[38;5;241m=\u001b[39m np\u001b[38;5;241m.\u001b[39mabs(h)\n\u001b[1;32m--> 144\u001b[0m y_new, f_new \u001b[38;5;241m=\u001b[39m \u001b[43mrk_step\u001b[49m\u001b[43m(\u001b[49m\u001b[38;5;28;43mself\u001b[39;49m\u001b[38;5;241;43m.\u001b[39;49m\u001b[43mfun\u001b[49m\u001b[43m,\u001b[49m\u001b[43m \u001b[49m\u001b[43mt\u001b[49m\u001b[43m,\u001b[49m\u001b[43m \u001b[49m\u001b[43my\u001b[49m\u001b[43m,\u001b[49m\u001b[43m \u001b[49m\u001b[38;5;28;43mself\u001b[39;49m\u001b[38;5;241;43m.\u001b[39;49m\u001b[43mf\u001b[49m\u001b[43m,\u001b[49m\u001b[43m \u001b[49m\u001b[43mh\u001b[49m\u001b[43m,\u001b[49m\u001b[43m \u001b[49m\u001b[38;5;28;43mself\u001b[39;49m\u001b[38;5;241;43m.\u001b[39;49m\u001b[43mA\u001b[49m\u001b[43m,\u001b[49m\n\u001b[0;32m    145\u001b[0m \u001b[43m                       \u001b[49m\u001b[38;5;28;43mself\u001b[39;49m\u001b[38;5;241;43m.\u001b[39;49m\u001b[43mB\u001b[49m\u001b[43m,\u001b[49m\u001b[43m \u001b[49m\u001b[38;5;28;43mself\u001b[39;49m\u001b[38;5;241;43m.\u001b[39;49m\u001b[43mC\u001b[49m\u001b[43m,\u001b[49m\u001b[43m \u001b[49m\u001b[38;5;28;43mself\u001b[39;49m\u001b[38;5;241;43m.\u001b[39;49m\u001b[43mK\u001b[49m\u001b[43m)\u001b[49m\n\u001b[0;32m    146\u001b[0m scale \u001b[38;5;241m=\u001b[39m atol \u001b[38;5;241m+\u001b[39m np\u001b[38;5;241m.\u001b[39mmaximum(np\u001b[38;5;241m.\u001b[39mabs(y), np\u001b[38;5;241m.\u001b[39mabs(y_new)) \u001b[38;5;241m*\u001b[39m rtol\n\u001b[0;32m    147\u001b[0m error_norm \u001b[38;5;241m=\u001b[39m \u001b[38;5;28mself\u001b[39m\u001b[38;5;241m.\u001b[39m_estimate_error_norm(\u001b[38;5;28mself\u001b[39m\u001b[38;5;241m.\u001b[39mK, h, scale)\n",
      "File \u001b[1;32m~\\AppData\\Roaming\\Python\\Python310\\site-packages\\scipy\\integrate\\_ivp\\rk.py:63\u001b[0m, in \u001b[0;36mrk_step\u001b[1;34m(fun, t, y, f, h, A, B, C, K)\u001b[0m\n\u001b[0;32m     61\u001b[0m K[\u001b[38;5;241m0\u001b[39m] \u001b[38;5;241m=\u001b[39m f\n\u001b[0;32m     62\u001b[0m \u001b[38;5;28;01mfor\u001b[39;00m s, (a, c) \u001b[38;5;129;01min\u001b[39;00m \u001b[38;5;28menumerate\u001b[39m(\u001b[38;5;28mzip\u001b[39m(A[\u001b[38;5;241m1\u001b[39m:], C[\u001b[38;5;241m1\u001b[39m:]), start\u001b[38;5;241m=\u001b[39m\u001b[38;5;241m1\u001b[39m):\n\u001b[1;32m---> 63\u001b[0m     dy \u001b[38;5;241m=\u001b[39m \u001b[43mnp\u001b[49m\u001b[38;5;241;43m.\u001b[39;49m\u001b[43mdot\u001b[49m\u001b[43m(\u001b[49m\u001b[43mK\u001b[49m\u001b[43m[\u001b[49m\u001b[43m:\u001b[49m\u001b[43ms\u001b[49m\u001b[43m]\u001b[49m\u001b[38;5;241;43m.\u001b[39;49m\u001b[43mT\u001b[49m\u001b[43m,\u001b[49m\u001b[43m \u001b[49m\u001b[43ma\u001b[49m\u001b[43m[\u001b[49m\u001b[43m:\u001b[49m\u001b[43ms\u001b[49m\u001b[43m]\u001b[49m\u001b[43m)\u001b[49m \u001b[38;5;241m*\u001b[39m h\n\u001b[0;32m     64\u001b[0m     K[s] \u001b[38;5;241m=\u001b[39m fun(t \u001b[38;5;241m+\u001b[39m c \u001b[38;5;241m*\u001b[39m h, y \u001b[38;5;241m+\u001b[39m dy)\n\u001b[0;32m     66\u001b[0m y_new \u001b[38;5;241m=\u001b[39m y \u001b[38;5;241m+\u001b[39m h \u001b[38;5;241m*\u001b[39m np\u001b[38;5;241m.\u001b[39mdot(K[:\u001b[38;5;241m-\u001b[39m\u001b[38;5;241m1\u001b[39m]\u001b[38;5;241m.\u001b[39mT, B)\n",
      "\u001b[1;31mKeyboardInterrupt\u001b[0m: "
     ]
    }
   ],
   "source": [
    "\n",
    "# -------------------- Main Program --------------------\n",
    "if __name__ == '__main__':\n",
    "    # Define the central pressure of the star (in dyne/cm^2)\n",
    "    p_range = np.logspace(10e20, 10e25, 5)\n",
    "    radii = []\n",
    "    masses = []\n",
    "    for p in p_range:\n",
    "        radius, pressure, mass = integrate_star(p)\n",
    "\n",
    "        # Extract the final radius and mass when pressure drops to (near) zero\n",
    "        final_radius = radius[-1] / R_sun  # Convert to solar radii\n",
    "        final_mass = mass[-1] / M_sun  # Convert to solar masses\n",
    "\n",
    "        radii.append(final_radius)\n",
    "        masses.append(final_mass)\n",
    "\n",
    "\n",
    "plt.plot(radii,masses)\n",
    "\n",
    "    \n",
    "\n",
    "    \n",
    "\n"
   ]
  },
  {
   "cell_type": "code",
   "execution_count": 76,
   "metadata": {},
   "outputs": [
    {
     "name": "stdout",
     "output_type": "stream",
     "text": [
      "1243500000000000.0\n"
     ]
    }
   ],
   "source": [
    "def rho_from_pressure_non_relativistic(P):\n",
    "    \"\"\"Inverse EOS to get density from pressure for non-relativistic case\"\"\"\n",
    "    K_NR = hbar * c / (15 * np.pi**2) * (3 * np.pi**2 / (a_z * m_n * c**2))**5/3\n",
    "    return (P / K_NR)**(3/5)\n",
    "\n",
    "\n",
    "\n",
    "print(K_NR)"
   ]
  }
 ],
 "metadata": {
  "kernelspec": {
   "display_name": "Python 3",
   "language": "python",
   "name": "python3"
  },
  "language_info": {
   "codemirror_mode": {
    "name": "ipython",
    "version": 3
   },
   "file_extension": ".py",
   "mimetype": "text/x-python",
   "name": "python",
   "nbconvert_exporter": "python",
   "pygments_lexer": "ipython3",
   "version": "3.10.6"
  }
 },
 "nbformat": 4,
 "nbformat_minor": 2
}
